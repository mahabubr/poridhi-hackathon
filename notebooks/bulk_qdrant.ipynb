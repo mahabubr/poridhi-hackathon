{
 "cells": [
  {
   "cell_type": "markdown",
   "metadata": {},
   "source": [
    "### Import Packages"
   ]
  },
  {
   "cell_type": "code",
   "execution_count": 18,
   "metadata": {},
   "outputs": [
    {
     "name": "stdout",
     "output_type": "stream",
     "text": [
      "True\n"
     ]
    }
   ],
   "source": [
    "import os\n",
    "\n",
    "print(os.path.exists(\"..\"))"
   ]
  },
  {
   "cell_type": "code",
   "execution_count": 19,
   "metadata": {},
   "outputs": [],
   "source": [
    "import sys\n",
    "\n",
    "sys.path.append(\"..\")"
   ]
  },
  {
   "cell_type": "code",
   "execution_count": 20,
   "metadata": {},
   "outputs": [
    {
     "data": {
      "text/plain": [
       "True"
      ]
     },
     "execution_count": 20,
     "metadata": {},
     "output_type": "execute_result"
    }
   ],
   "source": [
    "from dotenv import load_dotenv\n",
    "\n",
    "load_dotenv()"
   ]
  },
  {
   "cell_type": "code",
   "execution_count": 21,
   "metadata": {},
   "outputs": [],
   "source": [
    "from app.model_vault.embedding_model import EmbeddingModel\n",
    "from app.qdrant.qdrant_service import init_qdrant, insert_qdrant"
   ]
  },
  {
   "cell_type": "code",
   "execution_count": 22,
   "metadata": {},
   "outputs": [],
   "source": [
    "import pandas as pd\n",
    "import re"
   ]
  },
  {
   "cell_type": "markdown",
   "metadata": {},
   "source": [
    "### Download The Dataset"
   ]
  },
  {
   "cell_type": "code",
   "execution_count": 23,
   "metadata": {},
   "outputs": [],
   "source": [
    "df = pd.read_csv(\"../dataset/train.csv\")"
   ]
  },
  {
   "cell_type": "code",
   "execution_count": 24,
   "metadata": {},
   "outputs": [
    {
     "data": {
      "text/plain": [
       "16028"
      ]
     },
     "execution_count": 24,
     "metadata": {},
     "output_type": "execute_result"
    }
   ],
   "source": [
    "len(df)"
   ]
  },
  {
   "cell_type": "code",
   "execution_count": 25,
   "metadata": {},
   "outputs": [
    {
     "data": {
      "text/html": [
       "<div>\n",
       "<style scoped>\n",
       "    .dataframe tbody tr th:only-of-type {\n",
       "        vertical-align: middle;\n",
       "    }\n",
       "\n",
       "    .dataframe tbody tr th {\n",
       "        vertical-align: top;\n",
       "    }\n",
       "\n",
       "    .dataframe thead th {\n",
       "        text-align: right;\n",
       "    }\n",
       "</style>\n",
       "<table border=\"1\" class=\"dataframe\">\n",
       "  <thead>\n",
       "    <tr style=\"text-align: right;\">\n",
       "      <th></th>\n",
       "      <th>Unnamed: 0</th>\n",
       "      <th>label</th>\n",
       "      <th>id_right</th>\n",
       "      <th>category_right</th>\n",
       "      <th>cluster_id_right</th>\n",
       "      <th>brand_right</th>\n",
       "      <th>title_right</th>\n",
       "      <th>description_right</th>\n",
       "      <th>price_right</th>\n",
       "      <th>specTableContent_right</th>\n",
       "    </tr>\n",
       "  </thead>\n",
       "  <tbody>\n",
       "    <tr>\n",
       "      <th>0</th>\n",
       "      <td>0</td>\n",
       "      <td>1</td>\n",
       "      <td>5931545</td>\n",
       "      <td>Camera_and_Photo</td>\n",
       "      <td>9309675</td>\n",
       "      <td>\"Veho\"@en-US</td>\n",
       "      <td>\"Veho VCC-005-MUVI-NPNG MUVI HD Mini Handsfre...</td>\n",
       "      <td>\"Veho are pleased to announce the partnership ...</td>\n",
       "      <td>$0.00</td>\n",
       "      <td></td>\n",
       "    </tr>\n",
       "    <tr>\n",
       "      <th>1</th>\n",
       "      <td>1</td>\n",
       "      <td>0</td>\n",
       "      <td>12577428</td>\n",
       "      <td>Camera_and_Photo</td>\n",
       "      <td>464821</td>\n",
       "      <td></td>\n",
       "      <td>\"Sony Alpha a7 Mirrorless Digital Camera with...</td>\n",
       "      <td></td>\n",
       "      <td>$0.00</td>\n",
       "      <td></td>\n",
       "    </tr>\n",
       "    <tr>\n",
       "      <th>2</th>\n",
       "      <td>2</td>\n",
       "      <td>0</td>\n",
       "      <td>543627</td>\n",
       "      <td>Camera_and_Photo</td>\n",
       "      <td>481159</td>\n",
       "      <td></td>\n",
       "      <td>\" Manfrotto BeFree Tripod with Ball Head \"@en...</td>\n",
       "      <td>\"\\n                              Free Advanced...</td>\n",
       "      <td>$0.00</td>\n",
       "      <td></td>\n",
       "    </tr>\n",
       "    <tr>\n",
       "      <th>3</th>\n",
       "      <td>3</td>\n",
       "      <td>0</td>\n",
       "      <td>4118525</td>\n",
       "      <td>Camera_and_Photo</td>\n",
       "      <td>72951</td>\n",
       "      <td>\"UNIDEN\"</td>\n",
       "      <td>\"UNIDEN UDR444A 4.3\" LCD Wireless Video Surve...</td>\n",
       "      <td>\"Expandable up to 4 cameras, easy to install, ...</td>\n",
       "      <td>$0.00</td>\n",
       "      <td></td>\n",
       "    </tr>\n",
       "    <tr>\n",
       "      <th>4</th>\n",
       "      <td>4</td>\n",
       "      <td>0</td>\n",
       "      <td>2643276</td>\n",
       "      <td>Camera_and_Photo</td>\n",
       "      <td>801459</td>\n",
       "      <td></td>\n",
       "      <td>\"Used GoPro Hero 4 Black w/ Batteries, Dual C...</td>\n",
       "      <td>\"\\n\\t12 MP photos up to 30 fps\\n\\t4K30, 2.7K50...</td>\n",
       "      <td>$0.00</td>\n",
       "      <td></td>\n",
       "    </tr>\n",
       "  </tbody>\n",
       "</table>\n",
       "</div>"
      ],
      "text/plain": [
       "   Unnamed: 0  label  id_right    category_right  cluster_id_right  \\\n",
       "0           0      1   5931545  Camera_and_Photo           9309675   \n",
       "1           1      0  12577428  Camera_and_Photo            464821   \n",
       "2           2      0    543627  Camera_and_Photo            481159   \n",
       "3           3      0   4118525  Camera_and_Photo             72951   \n",
       "4           4      0   2643276  Camera_and_Photo            801459   \n",
       "\n",
       "    brand_right                                        title_right  \\\n",
       "0  \"Veho\"@en-US   \"Veho VCC-005-MUVI-NPNG MUVI HD Mini Handsfre...   \n",
       "1                 \"Sony Alpha a7 Mirrorless Digital Camera with...   \n",
       "2                 \" Manfrotto BeFree Tripod with Ball Head \"@en...   \n",
       "3      \"UNIDEN\"   \"UNIDEN UDR444A 4.3\" LCD Wireless Video Surve...   \n",
       "4                 \"Used GoPro Hero 4 Black w/ Batteries, Dual C...   \n",
       "\n",
       "                                   description_right price_right  \\\n",
       "0  \"Veho are pleased to announce the partnership ...       $0.00   \n",
       "1                                                          $0.00   \n",
       "2  \"\\n                              Free Advanced...       $0.00   \n",
       "3  \"Expandable up to 4 cameras, easy to install, ...       $0.00   \n",
       "4  \"\\n\\t12 MP photos up to 30 fps\\n\\t4K30, 2.7K50...       $0.00   \n",
       "\n",
       "  specTableContent_right  \n",
       "0                         \n",
       "1                         \n",
       "2                         \n",
       "3                         \n",
       "4                         "
      ]
     },
     "execution_count": 25,
     "metadata": {},
     "output_type": "execute_result"
    }
   ],
   "source": [
    "df.head()"
   ]
  },
  {
   "cell_type": "code",
   "execution_count": 26,
   "metadata": {},
   "outputs": [],
   "source": [
    "def prepare_qdrant_payload(row):\n",
    "    text_parts = [\n",
    "        str(row[\"category_right\"]),\n",
    "        str(row[\"brand_right\"]),\n",
    "        str(row[\"title_right\"]),\n",
    "        str(row[\"description_right\"]),\n",
    "        str(row[\"specTableContent_right\"]),\n",
    "    ]\n",
    "\n",
    "    combined_text = \" \".join(text_parts).lower()\n",
    "\n",
    "    clean_text = re.sub(r\"\\s+\", \" \", combined_text).strip()\n",
    "\n",
    "    cleaned_text = clean_text.replace('\"', \"\").replace(\"'\", \"\")\n",
    "\n",
    "    return cleaned_text"
   ]
  },
  {
   "cell_type": "code",
   "execution_count": 27,
   "metadata": {},
   "outputs": [],
   "source": [
    "payloads = df.apply(prepare_qdrant_payload, axis=1).tolist()"
   ]
  },
  {
   "cell_type": "code",
   "execution_count": 28,
   "metadata": {},
   "outputs": [
    {
     "data": {
      "text/plain": [
       "['camera_and_photo veho@en-us veho vcc-005-muvi-npng muvi hd mini handsfree actioncam with waterproof case and 8 gb memory - no proof glory edition@en-us sports & action video cameras page 7 | come as you arts@en-us veho are pleased to announce the partnership with new and exciting lifestyle and action sports media partner no proof no glory . as part of this partnership, veho have released the muvi hd special edition no proof no glory bundle. the special edition no proof no glory muvi hd includes a waterproof case that is capable of depths of 60 meters underwater for a full 60 minutes, a helmet front mount that allows you to create a true pov angle when filming hands free.the muvi hd has updated firmware to allow you to record at 960p at 30fps and 720p at 60 & 30fps giving you more versatility with your muvi hd action camera. the muvi hd also has a 16mbit/s in 1080p mode to make sure your footage is as smooth as possible. the 1400 mah battery has the biggest capacity on the market and will give your muvi hd a continuous 3 hours recording time. the no proof no glory edition also ships with a 8 gb micro sd card which will enable around 80 minutes at full 1080p high definition. with a host of other features such as time lapse continuous photos, exposure control, touch sensitive controls, remote control, 1.5-inch lcd and many more, you wont want to use any other action camera. other accessories as are also available for the muvi hd such as the duo pod, headband mount and harness mount.@en-us',\n",
       " 'camera_and_photo sony alpha a7 mirrorless digital camera with fe 28-70mm f/3.5-5.6 oss lens@en lens - fumfie.com@en',\n",
       " 'camera_and_photo  manfrotto befree tripod with ball head @en - optics4birding  free advanced travel backpackthe manfrotto befree compact travel photo tripod is made of a sturdy aluminum alloy that extends to 5 feet, supporting up to 9 lbs. with a folded length of 15.75 inches this tripod is compact; perfect for the traveling photographer. the ball head offers a large locking handle and a quick release with a 1/4 mounting screw. also included is a durable cary case for safe travels. @en',\n",
       " 'camera_and_photo uniden uniden udr444a 4.3 lcd wireless video surveillance system (udr444a) 4.3 (udr444a) from solid signal expandable up to 4 cameras, easy to install, portable and discreet, the uniden udr444a 4.3 lcd wireless video surveillance system is ideal for keeping an eye on the kids in the backyard, theft deterrence or safeguarding your small business. record and save camera footage directly to your microsd card. the 4.3 high-res color lcd monitor ensures a clear image indoors or out, even at night.',\n",
       " 'camera_and_photo used gopro hero 4 black w/ batteries, dual charger d - excellent@en  video cameras used | unique photo @en  12 mp photos up to 30 fps 4k30, 2.7k50 and 1080p120 video built-in wi-fi and bluetooth waterproof to 131’ (40m) new protune settings new night photo and night lapse modes built-in wi-fi + bluetooth hilight tag auto low light mode new quikcapture mode powerful new audio system new dedicated button @en']"
      ]
     },
     "execution_count": 28,
     "metadata": {},
     "output_type": "execute_result"
    }
   ],
   "source": [
    "payloads[:5]"
   ]
  },
  {
   "cell_type": "code",
   "execution_count": 29,
   "metadata": {},
   "outputs": [
    {
     "data": {
      "text/plain": [
       "16028"
      ]
     },
     "execution_count": 29,
     "metadata": {},
     "output_type": "execute_result"
    }
   ],
   "source": [
    "len(payloads)"
   ]
  },
  {
   "cell_type": "markdown",
   "metadata": {},
   "source": [
    "### Embedding The Details"
   ]
  },
  {
   "cell_type": "code",
   "execution_count": 30,
   "metadata": {},
   "outputs": [],
   "source": [
    "model_name = \"sentence-transformers/all-MiniLM-L6-v2\""
   ]
  },
  {
   "cell_type": "code",
   "execution_count": 31,
   "metadata": {},
   "outputs": [],
   "source": [
    "embedding = EmbeddingModel(model_name=model_name)"
   ]
  },
  {
   "cell_type": "code",
   "execution_count": 32,
   "metadata": {},
   "outputs": [
    {
     "data": {
      "text/plain": [
       "<app.model_vault.embedding_model.EmbeddingModel at 0x75979c6144f0>"
      ]
     },
     "execution_count": 32,
     "metadata": {},
     "output_type": "execute_result"
    }
   ],
   "source": [
    "embedding"
   ]
  },
  {
   "cell_type": "code",
   "execution_count": 33,
   "metadata": {},
   "outputs": [
    {
     "name": "stderr",
     "output_type": "stream",
     "text": [
      "Batches: 100%|██████████| 63/63 [11:16<00:00, 10.74s/it]\n"
     ]
    }
   ],
   "source": [
    "embedding_text = embedding.embed(text=payloads)"
   ]
  },
  {
   "cell_type": "code",
   "execution_count": 34,
   "metadata": {},
   "outputs": [
    {
     "data": {
      "text/plain": [
       "16028"
      ]
     },
     "execution_count": 34,
     "metadata": {},
     "output_type": "execute_result"
    }
   ],
   "source": [
    "len(embedding_text)"
   ]
  },
  {
   "cell_type": "code",
   "execution_count": 35,
   "metadata": {},
   "outputs": [
    {
     "data": {
      "text/plain": [
       "384"
      ]
     },
     "execution_count": 35,
     "metadata": {},
     "output_type": "execute_result"
    }
   ],
   "source": [
    "len(embedding_text[0])"
   ]
  },
  {
   "cell_type": "code",
   "execution_count": 36,
   "metadata": {},
   "outputs": [],
   "source": [
    "init_qdrant(vector_size=len(embedding_text[0]))"
   ]
  },
  {
   "cell_type": "code",
   "execution_count": 37,
   "metadata": {},
   "outputs": [],
   "source": [
    "metadata = df[[\"id_right\"]].to_dict(orient=\"records\")"
   ]
  },
  {
   "cell_type": "code",
   "execution_count": 38,
   "metadata": {},
   "outputs": [
    {
     "data": {
      "text/plain": [
       "[{'id_right': 5931545},\n",
       " {'id_right': 12577428},\n",
       " {'id_right': 543627},\n",
       " {'id_right': 4118525},\n",
       " {'id_right': 2643276}]"
      ]
     },
     "execution_count": 38,
     "metadata": {},
     "output_type": "execute_result"
    }
   ],
   "source": [
    "metadata[:5]"
   ]
  },
  {
   "cell_type": "code",
   "execution_count": 39,
   "metadata": {},
   "outputs": [],
   "source": [
    "for i in range(0, len(embedding_text), 500):\n",
    "    insert_qdrant(\n",
    "        embeddings=embedding_text[i : i + 500], metadata=metadata[i : i + 500]\n",
    "    )"
   ]
  },
  {
   "cell_type": "code",
   "execution_count": null,
   "metadata": {},
   "outputs": [],
   "source": []
  }
 ],
 "metadata": {
  "kernelspec": {
   "display_name": "venv",
   "language": "python",
   "name": "python3"
  },
  "language_info": {
   "codemirror_mode": {
    "name": "ipython",
    "version": 3
   },
   "file_extension": ".py",
   "mimetype": "text/x-python",
   "name": "python",
   "nbconvert_exporter": "python",
   "pygments_lexer": "ipython3",
   "version": "3.9.7"
  }
 },
 "nbformat": 4,
 "nbformat_minor": 2
}
